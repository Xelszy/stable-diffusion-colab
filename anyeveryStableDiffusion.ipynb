{
  "nbformat": 4,
  "nbformat_minor": 0,
  "metadata": {
    "colab": {
      "provenance": [],
      "include_colab_link": true
    },
    "kernelspec": {
      "name": "python3",
      "display_name": "Python 3"
    },
    "language_info": {
      "name": "python"
    },
    "accelerator": "GPU",
    "gpuClass": "standard"
  },
  "cells": [
    {
      "cell_type": "markdown",
      "metadata": {
        "id": "view-in-github",
        "colab_type": "text"
      },
      "source": [
        "<a href=\"https://colab.research.google.com/github/Xelszy/stable-diffusion-colab/blob/main/anyeveryStableDiffusion.ipynb\" target=\"_parent\"><img src=\"https://colab.research.google.com/assets/colab-badge.svg\" alt=\"Open In Colab\"/></a>"
      ]
    },
    {
      "cell_type": "code",
      "execution_count": null,
      "metadata": {
        "id": "lv5y58D-uTWl"
      },
      "outputs": [],
      "source": [
        "!nvidia-smi"
      ]
    },
    {
      "cell_type": "code",
      "source": [
        "import os\n",
        "os.kill(os.getpid(), 9)"
      ],
      "metadata": {
        "id": "sZtDpdyduciy"
      },
      "execution_count": null,
      "outputs": []
    },
    {
      "cell_type": "code",
      "source": [
        "!git clone https://github.com/AUTOMATIC1111/stable-diffusion-webui\n",
        "!echo \"Starting...\"\n",
        "%pip install -q https://github.com/brian6091/xformers-wheels/releases/download/0.0.15.dev0%2B4c06c79/xformers-0.0.15.dev0+4c06c79.d20221205-cp38-cp38-linux_x86_64.whl\n",
        "%cd /content/\n",
        "!echo \"Done.\"\n",
        "%cd /content/stable-diffusion-webui"
      ],
      "metadata": {
        "id": "-9vK2_c8uosC"
      },
      "execution_count": null,
      "outputs": []
    },
    {
      "cell_type": "code",
      "source": [
        "!wget https://huggingface.co/acheong08/nutmegmix/resolve/main/nutmegmix.ckpt -O models/nutmegmix.ckpt\n",
        "!wget --user=ixelszy --password='Sdn1surodakan' https://huggingface.co/ixelszy/VAE/resolve/main/anything%2Beverything-ver2.ckpt -O models/anything%2Beverything-ver2.ckpt\n",
        "!wget https://huggingface.co/datasets/Nerfgun3/bad_prompt/resolve/main/bad_prompt_version2.pt -O embeddings/bad_prompt_version2.pt\n",
        "!wget --user=ixelszy --password='Sdn1surodakan' https://huggingface.co/ixelszy/VAE/resolve/main/nai-vae.pt "
      ],
      "metadata": {
        "id": "cDUXWMiTu0HH"
      },
      "execution_count": null,
      "outputs": []
    },
    {
      "cell_type": "code",
      "source": [
        "!COMMANDLINE_ARGS=\"--exit\" REQS_FILE=\"requirements.txt\" python launch.py"
      ],
      "metadata": {
        "id": "_OC5C5VT5Dio"
      },
      "execution_count": null,
      "outputs": []
    },
    {
      "cell_type": "code",
      "source": [
        "%cd /content/stable-diffusion-webui\n",
        "!git pull"
      ],
      "metadata": {
        "id": "5NZUdtbU5dfh"
      },
      "execution_count": null,
      "outputs": []
    },
    {
      "cell_type": "code",
      "source": [
        "!COMMANDLINE_ARGS=\"--share --gradio-debug --force-enable-xformers\" REQS_FILE=\"requirements.txt\" python launch.py"
      ],
      "metadata": {
        "id": "LJIgs8xD5tPg",
        "colab": {
          "base_uri": "https://localhost:8080/"
        },
        "outputId": "b0b4a33e-2a99-4dbc-f58c-ef9866797186"
      },
      "execution_count": null,
      "outputs": [
        {
          "output_type": "stream",
          "name": "stdout",
          "text": [
            "Python 3.8.16 (default, Dec  7 2022, 01:12:13) \n",
            "[GCC 7.5.0]\n",
            "Commit hash: 685f9631b56ff8bd43bce24ff5ce0f9a0e9af490\n",
            "Installing requirements for Web UI\n",
            "Launching Web UI with arguments: --share --gradio-debug --force-enable-xformers\n",
            "LatentDiffusion: Running in eps-prediction mode\n",
            "DiffusionWrapper has 859.52 M params.\n",
            "Loading weights [98539064] from /content/stable-diffusion-webui/models/Stable-diffusion/anything%2Beverything-ver2.ckpt\n",
            "^C\n"
          ]
        }
      ]
    }
  ]
}